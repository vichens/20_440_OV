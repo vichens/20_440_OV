{
 "cells": [
  {
   "cell_type": "markdown",
   "id": "eeb5eb6a-424b-4f6a-a1b5-6c629d2d282f",
   "metadata": {
    "id": "Nk2LIjKQxpI1"
   },
   "source": [
    "### ________________________________________________________________________________________________________________________________________\n",
    "## Analysis of Taxonomy Composition over Time\n",
    "#### Dataset: Microbiome of the Georiga Aquarium Ocean Voyager exhibit\n",
    "#### SRA Accession PRJNA417313\n",
    "### ________________________________________________________________________________________________________________________________________"
   ]
  },
  {
   "cell_type": "markdown",
   "id": "d282eedd-d923-4c3a-a8f4-1281cd23fc74",
   "metadata": {
    "id": "Nk2LIjKQxpI1"
   },
   "source": [
    "### Setup"
   ]
  },
  {
   "cell_type": "code",
   "execution_count": 1,
   "id": "066f1da9-8897-4d43-a79e-0b8022343231",
   "metadata": {},
   "outputs": [
    {
     "name": "stdout",
     "output_type": "stream",
     "text": [
      "Enabling: qiime2.jupyter\n",
      "- Writing config: /Users/victoriac/mambaforge/envs/qiime2-2023.2/etc/jupyter\n",
      "    - Validating...\n",
      "      qiime2.jupyter  \u001b[32mOK\u001b[0m\n"
     ]
    }
   ],
   "source": [
    "# Import module to output interactive plots in notebook\n",
    "# Restart Jupyter after running\n",
    "from qiime2 import Visualization\n",
    "!jupyter serverextension enable --py qiime2 --sys-prefix"
   ]
  },
  {
   "cell_type": "code",
   "execution_count": 2,
   "id": "116109e9-6c9d-4f90-b85c-11e9070d7879",
   "metadata": {},
   "outputs": [],
   "source": [
    "### Already run -- don't run again if paired-end-demux.qza already exists\n",
    "# Import the data into QIIME\n",
    "# !qiime tools import \\\n",
    "# --type 'SampleData[PairedEndSequencesWithQuality]' \\\n",
    "# --input-path ov-manifest.tsv \\\n",
    "# --output-path paired-end-demux.qza \\\n",
    "# --input-format PairedEndFastqManifestPhred33V2"
   ]
  },
  {
   "cell_type": "code",
   "execution_count": 3,
   "id": "27a2aa93-b568-4a44-b65c-1927ec78189a",
   "metadata": {},
   "outputs": [],
   "source": [
    "### Already run -- don't run again if table.qza and rep-seqs.qza already exist\n",
    "# Sequence quality control using DADA2\n",
    "# WIP - figure out DADA2 vs Deblur\n",
    "# Could use FIGARO to dial in truncation params\n",
    "# !qiime dada2 denoise-paired \\\n",
    "#   --i-demultiplexed-seqs paired-end-demux.qza \\\n",
    "#   --p-trim-left-f 13 \\\n",
    "#   --p-trim-left-r 13 \\\n",
    "#   --p-trunc-len-f 250 \\\n",
    "#   --p-trunc-len-r 250 \\\n",
    "#   --o-table table.qza \\\n",
    "#   --o-representative-sequences rep-seqs.qza \\\n",
    "#   --o-denoising-stats denoising-stats.qza"
   ]
  },
  {
   "cell_type": "markdown",
   "id": "735522e5-762b-4e50-9760-e9306211cbe4",
   "metadata": {
    "id": "Nk2LIjKQxpI1"
   },
   "source": [
    "### Analysis"
   ]
  },
  {
   "cell_type": "code",
   "execution_count": 4,
   "id": "a125b2d9-79f0-41fa-a152-ccdec217195e",
   "metadata": {},
   "outputs": [
    {
     "name": "stdout",
     "output_type": "stream",
     "text": [
      "\u001b[32mSaved Visualization to: demux.qzv\u001b[0m\n",
      "\u001b[0m"
     ]
    }
   ],
   "source": [
    "# Generate a summary of the sequence counts\n",
    "!qiime demux summarize \\\n",
    "--i-data paired-end-demux.qza \\\n",
    "--o-visualization demux.qzv"
   ]
  },
  {
   "cell_type": "code",
   "execution_count": 5,
   "id": "4c2270b9-3574-4a5c-b348-318471655b77",
   "metadata": {
    "tags": []
   },
   "outputs": [
    {
     "data": {
      "text/html": [
       "<div><img onload=\"(function(div, url){\n",
       "if (typeof require !== 'undefined') {\n",
       "    var baseURL = require.toUrl('').split('/').slice(0, -2).join('/');\n",
       "} else {\n",
       "    var baseURL = JSON.parse(\n",
       "        document.getElementById('jupyter-config-data').innerHTML\n",
       "    ).baseUrl.slice(0, -1);\n",
       "}\n",
       "url = baseURL + url;\n",
       "fetch(url).then(function(res) {\n",
       "    if (res.status === 404) {\n",
       "        div.innerHTML = 'Install QIIME 2 Jupyter extension with:<br />' +\n",
       "                        '<code>jupyter serverextension enable --py qiime2' +\n",
       "                        ' --sys-prefix</code><br />then restart your server.' +\n",
       "                        '<br /><br />(Interactive output not available on ' +\n",
       "                        'static notebook viewer services like nbviewer.)';\n",
       "    } else if (res.status === 409) {\n",
       "        div.innerHTML = 'Visualization no longer in scope. Re-run this cell' +\n",
       "                        ' to see the visualization.';\n",
       "    } else if (res.ok) {\n",
       "        url = res.url;\n",
       "        div.innerHTML = '<iframe src=\\'' + url + '\\' style=\\'' +\n",
       "                        'width: 100%; height: 700px; border: 0;\\'>' +\n",
       "                        '</iframe><hr />Open in a: <a href=\\'' + url + '\\'' +\n",
       "                        ' target=\\'_blank\\'>new window</a>'\n",
       "    } else {\n",
       "        div.innerHTML = 'Something has gone wrong. Check notebook server for' +\n",
       "                        ' errors.';\n",
       "    }\n",
       "});\n",
       "})(this.parentElement, '/qiime2/redirect?location=/var/folders/jm/v603rqhn5tb7b6zs35j1f3h40000gn/T/qiime2/victoriac/data/7c84dd00-ec1e-4985-bd8a-02004530cc96')\" src=\"data:image/gif;base64,R0lGODlhAQABAIAAAP///wAAACH5BAEAAAAALAAAAAABAAEAAAICRAEAOw==\" /></div>"
      ],
      "text/plain": [
       "<visualization: Visualization uuid: 7c84dd00-ec1e-4985-bd8a-02004530cc96>"
      ]
     },
     "execution_count": 5,
     "metadata": {},
     "output_type": "execute_result"
    }
   ],
   "source": [
    "# Show interactive quality plot\n",
    "# Change tabs to view\n",
    "Visualization.load('demux.qzv')"
   ]
  },
  {
   "cell_type": "code",
   "execution_count": 6,
   "id": "1028344b-bb37-46ed-9de4-95720d6b6219",
   "metadata": {},
   "outputs": [
    {
     "name": "stdout",
     "output_type": "stream",
     "text": [
      "--2023-03-15 12:55:15--  https://data.qiime2.org/2023.2/common/gg-13-8-99-515-806-nb-classifier.qza\n",
      "Resolving data.qiime2.org (data.qiime2.org)... 54.200.1.12\n",
      "Connecting to data.qiime2.org (data.qiime2.org)|54.200.1.12|:443... connected.\n",
      "HTTP request sent, awaiting response... 302 FOUND\n",
      "Location: https://s3-us-west-2.amazonaws.com/qiime2-data/2023.2/common/gg-13-8-99-515-806-nb-classifier.qza [following]\n",
      "--2023-03-15 12:55:15--  https://s3-us-west-2.amazonaws.com/qiime2-data/2023.2/common/gg-13-8-99-515-806-nb-classifier.qza\n",
      "Resolving s3-us-west-2.amazonaws.com (s3-us-west-2.amazonaws.com)... 3.5.80.17, 52.218.237.192, 52.218.245.56, ...\n",
      "Connecting to s3-us-west-2.amazonaws.com (s3-us-west-2.amazonaws.com)|3.5.80.17|:443... connected.\n",
      "HTTP request sent, awaiting response... 200 OK\n",
      "Length: 28289645 (27M) [binary/octet-stream]\n",
      "Saving to: ‘gg-13-8-99-515-806-nb-classifier.qza’\n",
      "\n",
      "gg-13-8-99-515-806- 100%[===================>]  26.98M  1.52MB/s    in 12s     \n",
      "\n",
      "2023-03-15 12:55:28 (2.18 MB/s) - ‘gg-13-8-99-515-806-nb-classifier.qza’ saved [28289645/28289645]\n",
      "\n"
     ]
    }
   ],
   "source": [
    "# Download a pre-trained Naive Bayes classifier\n",
    "!wget \\\n",
    "  -O \"gg-13-8-99-515-806-nb-classifier.qza\" \\\n",
    "  \"https://data.qiime2.org/2023.2/common/gg-13-8-99-515-806-nb-classifier.qza\""
   ]
  },
  {
   "cell_type": "code",
   "execution_count": 7,
   "id": "353ed043-6afb-4ecd-9a61-faa925f1ba68",
   "metadata": {},
   "outputs": [
    {
     "name": "stdout",
     "output_type": "stream",
     "text": [
      "\u001b[32mSaved FeatureData[Taxonomy] to: taxonomy.qza\u001b[0m\n",
      "\u001b[0m"
     ]
    }
   ],
   "source": [
    "# Apply the classifier\n",
    "!qiime feature-classifier classify-sklearn \\\n",
    "  --i-classifier gg-13-8-99-515-806-nb-classifier.qza \\\n",
    "  --i-reads rep-seqs.qza \\\n",
    "  --o-classification taxonomy.qza"
   ]
  },
  {
   "cell_type": "code",
   "execution_count": 8,
   "id": "20d08116-de29-4641-b45b-0f297240880e",
   "metadata": {},
   "outputs": [
    {
     "name": "stdout",
     "output_type": "stream",
     "text": [
      "\u001b[32mSaved Visualization to: taxa-bar-plots.qzv\u001b[0m\n",
      "\u001b[0m"
     ]
    }
   ],
   "source": [
    "# Make interactive bar plots for taxonomic composition\n",
    "!qiime taxa barplot \\\n",
    "  --i-table table.qza \\\n",
    "  --i-taxonomy taxonomy.qza \\\n",
    "  --m-metadata-file ov-metadata.tsv \\\n",
    "  --o-visualization taxa-bar-plots.qzv"
   ]
  },
  {
   "cell_type": "code",
   "execution_count": 11,
   "id": "bb179db9-3a55-4784-9ea9-c1e963b288ae",
   "metadata": {
    "tags": []
   },
   "outputs": [
    {
     "data": {
      "text/html": [
       "<div><img onload=\"(function(div, url){\n",
       "if (typeof require !== 'undefined') {\n",
       "    var baseURL = require.toUrl('').split('/').slice(0, -2).join('/');\n",
       "} else {\n",
       "    var baseURL = JSON.parse(\n",
       "        document.getElementById('jupyter-config-data').innerHTML\n",
       "    ).baseUrl.slice(0, -1);\n",
       "}\n",
       "url = baseURL + url;\n",
       "fetch(url).then(function(res) {\n",
       "    if (res.status === 404) {\n",
       "        div.innerHTML = 'Install QIIME 2 Jupyter extension with:<br />' +\n",
       "                        '<code>jupyter serverextension enable --py qiime2' +\n",
       "                        ' --sys-prefix</code><br />then restart your server.' +\n",
       "                        '<br /><br />(Interactive output not available on ' +\n",
       "                        'static notebook viewer services like nbviewer.)';\n",
       "    } else if (res.status === 409) {\n",
       "        div.innerHTML = 'Visualization no longer in scope. Re-run this cell' +\n",
       "                        ' to see the visualization.';\n",
       "    } else if (res.ok) {\n",
       "        url = res.url;\n",
       "        div.innerHTML = '<iframe src=\\'' + url + '\\' style=\\'' +\n",
       "                        'width: 100%; height: 700px; border: 0;\\'>' +\n",
       "                        '</iframe><hr />Open in a: <a href=\\'' + url + '\\'' +\n",
       "                        ' target=\\'_blank\\'>new window</a>'\n",
       "    } else {\n",
       "        div.innerHTML = 'Something has gone wrong. Check notebook server for' +\n",
       "                        ' errors.';\n",
       "    }\n",
       "});\n",
       "})(this.parentElement, '/qiime2/redirect?location=/var/folders/jm/v603rqhn5tb7b6zs35j1f3h40000gn/T/qiime2/victoriac/data/9bd2e5c0-3085-43d5-8e36-499caee96416')\" src=\"data:image/gif;base64,R0lGODlhAQABAIAAAP///wAAACH5BAEAAAAALAAAAAABAAEAAAICRAEAOw==\" /></div>"
      ],
      "text/plain": [
       "<visualization: Visualization uuid: 9bd2e5c0-3085-43d5-8e36-499caee96416>"
      ]
     },
     "execution_count": 11,
     "metadata": {},
     "output_type": "execute_result"
    }
   ],
   "source": [
    "# Show interactive taxonomy bar plot\n",
    "# Set \"Sort Samples By\" to \"date\"\n",
    "# Set \"Taxonomic Level\" to 5\n",
    "Visualization.load('taxa-bar-plots.qzv')"
   ]
  },
  {
   "cell_type": "markdown",
   "id": "5e065972-1bd4-418a-b61e-de8a49a20667",
   "metadata": {},
   "source": [
    "### Resources Used\n",
    "https://docs.qiime2.org/2023.2/tutorials/moving-pictures/\n",
    "\n",
    "https://john-quensen.com/tutorials/processing-16s-sequences-with-qiime2-and-dada2/"
   ]
  }
 ],
 "metadata": {
  "kernelspec": {
   "display_name": "Python 3 (ipykernel)",
   "language": "python",
   "name": "python3"
  },
  "language_info": {
   "codemirror_mode": {
    "name": "ipython",
    "version": 3
   },
   "file_extension": ".py",
   "mimetype": "text/x-python",
   "name": "python",
   "nbconvert_exporter": "python",
   "pygments_lexer": "ipython3",
   "version": "3.8.16"
  }
 },
 "nbformat": 4,
 "nbformat_minor": 5
}
